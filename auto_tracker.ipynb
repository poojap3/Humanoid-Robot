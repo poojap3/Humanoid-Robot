{
 "cells": [
  {
   "cell_type": "code",
   "execution_count": 1,
   "id": "35f5d211",
   "metadata": {},
   "outputs": [],
   "source": [
    "#almost working\n",
    "\n",
    "\n",
    "import cv2\n",
    "import imutils\n",
    "result = cv2.VideoWriter('tracking.mp4', \n",
    "                         cv2.VideoWriter_fourcc(*'mp4v'),\n",
    "                         10, (1200,600))\n",
    "\n",
    "# Initializing the HOG person\n",
    "# detector\n",
    "\n",
    "hog = cv2.HOGDescriptor()\n",
    "hog.setSVMDetector(cv2.HOGDescriptor_getDefaultPeopleDetector())\n",
    "\n",
    "cap = cv2.VideoCapture('video_2.mp4')\n",
    "\n",
    "while cap.isOpened():\n",
    "    # Reading the video stream\n",
    "    ret, image = cap.read()\n",
    "    if ret:\n",
    "        image = imutils.resize(image,\n",
    "                            width=min(400, image.shape[1]))\n",
    "\n",
    "        # Detecting all the regions\n",
    "        # in the Image that has a\n",
    "        # pedestrians inside it\n",
    "        (regions, _) = hog.detectMultiScale(image,\n",
    "                                            winStride=(16, 16),\n",
    "                                            padding=(8, 8),\n",
    "                                            scale=1.02)\n",
    "\n",
    "        # Drawing the regions in the\n",
    "        # Image\n",
    "        for (x, y, w, h) in regions:\n",
    "            cv2.rectangle(image, (x, y),\n",
    "                        (x + w, y + h),\n",
    "                        (0, 0, 255), 2)\n",
    "\n",
    "        # Showing the output Image\n",
    "        result.write(image)\n",
    "        \n",
    "        cv2.imshow(\"Image\", image)\n",
    "        if cv2.waitKey(25) & 0xFF == ord('q'):\n",
    "            break\n",
    "    else:\n",
    "        break\n",
    "\n",
    "cap.release()\n",
    "cv2.destroyAllWindows()\n"
   ]
  },
  {
   "cell_type": "code",
   "execution_count": null,
   "id": "19131d92",
   "metadata": {},
   "outputs": [],
   "source": []
  }
 ],
 "metadata": {
  "kernelspec": {
   "display_name": "Python 3 (ipykernel)",
   "language": "python",
   "name": "python3"
  },
  "language_info": {
   "codemirror_mode": {
    "name": "ipython",
    "version": 3
   },
   "file_extension": ".py",
   "mimetype": "text/x-python",
   "name": "python",
   "nbconvert_exporter": "python",
   "pygments_lexer": "ipython3",
   "version": "3.9.7"
  }
 },
 "nbformat": 4,
 "nbformat_minor": 5
}
