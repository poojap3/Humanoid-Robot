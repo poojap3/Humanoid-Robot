{
 "cells": [
  {
   "cell_type": "code",
   "execution_count": null,
   "id": "d478015a",
   "metadata": {},
   "outputs": [],
   "source": [
    "pip uninstall pyserial"
   ]
  },
  {
   "cell_type": "code",
   "execution_count": null,
   "id": "fe416c97",
   "metadata": {},
   "outputs": [],
   "source": []
  },
  {
   "cell_type": "code",
   "execution_count": 1,
   "id": "29a5656c",
   "metadata": {},
   "outputs": [
    {
     "ename": "SerialException",
     "evalue": "WriteFile failed (PermissionError(13, 'Access is denied.', None, 5))",
     "output_type": "error",
     "traceback": [
      "\u001b[1;31m---------------------------------------------------------------------------\u001b[0m",
      "\u001b[1;31mSerialException\u001b[0m                           Traceback (most recent call last)",
      "\u001b[1;32m~\\AppData\\Local\\Temp/ipykernel_25908/3493066558.py\u001b[0m in \u001b[0;36m<module>\u001b[1;34m\u001b[0m\n\u001b[0;32m     77\u001b[0m     \u001b[0mcv2\u001b[0m\u001b[1;33m.\u001b[0m\u001b[0mdestroyAllWindows\u001b[0m\u001b[1;33m(\u001b[0m\u001b[1;33m)\u001b[0m\u001b[1;33m\u001b[0m\u001b[1;33m\u001b[0m\u001b[0m\n\u001b[0;32m     78\u001b[0m \u001b[1;33m\u001b[0m\u001b[0m\n\u001b[1;32m---> 79\u001b[1;33m \u001b[0mtrackerr\u001b[0m\u001b[1;33m(\u001b[0m\u001b[1;33m)\u001b[0m\u001b[1;33m\u001b[0m\u001b[1;33m\u001b[0m\u001b[0m\n\u001b[0m",
      "\u001b[1;32m~\\AppData\\Local\\Temp/ipykernel_25908/3493066558.py\u001b[0m in \u001b[0;36mtrackerr\u001b[1;34m()\u001b[0m\n\u001b[0;32m     40\u001b[0m \u001b[1;33m\u001b[0m\u001b[0m\n\u001b[0;32m     41\u001b[0m             \u001b[1;32mif\u001b[0m \u001b[1;33m(\u001b[0m\u001b[0mx\u001b[0m\u001b[1;33m,\u001b[0m\u001b[0my\u001b[0m\u001b[1;33m,\u001b[0m\u001b[0mw\u001b[0m\u001b[1;33m,\u001b[0m\u001b[0mh\u001b[0m\u001b[1;33m)\u001b[0m\u001b[1;33m<=\u001b[0m\u001b[0mpt1\u001b[0m\u001b[1;33m:\u001b[0m\u001b[1;33m\u001b[0m\u001b[1;33m\u001b[0m\u001b[0m\n\u001b[1;32m---> 42\u001b[1;33m                 \u001b[0marduino\u001b[0m\u001b[1;33m.\u001b[0m\u001b[0mwrite\u001b[0m\u001b[1;33m(\u001b[0m\u001b[0mbytes\u001b[0m\u001b[1;33m(\u001b[0m\u001b[1;34m\"A\"\u001b[0m\u001b[1;33m,\u001b[0m \u001b[1;34m'utf-8'\u001b[0m\u001b[1;33m)\u001b[0m\u001b[1;33m)\u001b[0m\u001b[1;33m\u001b[0m\u001b[1;33m\u001b[0m\u001b[0m\n\u001b[0m\u001b[0;32m     43\u001b[0m                 \u001b[0mtime\u001b[0m\u001b[1;33m.\u001b[0m\u001b[0msleep\u001b[0m\u001b[1;33m(\u001b[0m\u001b[1;36m0.05\u001b[0m\u001b[1;33m)\u001b[0m\u001b[1;33m\u001b[0m\u001b[1;33m\u001b[0m\u001b[0m\n\u001b[0;32m     44\u001b[0m                 \u001b[0mcv2\u001b[0m\u001b[1;33m.\u001b[0m\u001b[0mputText\u001b[0m\u001b[1;33m(\u001b[0m\u001b[0mframe\u001b[0m\u001b[1;33m,\u001b[0m \u001b[1;34m\"A\"\u001b[0m\u001b[1;33m,\u001b[0m \u001b[1;33m(\u001b[0m\u001b[0mx\u001b[0m\u001b[1;33m,\u001b[0m \u001b[0my\u001b[0m\u001b[1;33m)\u001b[0m\u001b[1;33m,\u001b[0m\u001b[0mcv2\u001b[0m\u001b[1;33m.\u001b[0m\u001b[0mFONT_HERSHEY_SIMPLEX\u001b[0m\u001b[1;33m,\u001b[0m\u001b[1;36m1.0\u001b[0m\u001b[1;33m,\u001b[0m \u001b[1;33m(\u001b[0m\u001b[1;36m0\u001b[0m\u001b[1;33m,\u001b[0m \u001b[1;36m255\u001b[0m\u001b[1;33m,\u001b[0m \u001b[1;36m0\u001b[0m\u001b[1;33m)\u001b[0m\u001b[1;33m)\u001b[0m\u001b[1;33m\u001b[0m\u001b[1;33m\u001b[0m\u001b[0m\n",
      "\u001b[1;32m~\\anaconda3\\lib\\site-packages\\serial\\serialwin32.py\u001b[0m in \u001b[0;36mwrite\u001b[1;34m(self, data)\u001b[0m\n\u001b[0;32m    315\u001b[0m             \u001b[1;32mif\u001b[0m \u001b[0mself\u001b[0m\u001b[1;33m.\u001b[0m\u001b[0m_write_timeout\u001b[0m \u001b[1;33m!=\u001b[0m \u001b[1;36m0\u001b[0m\u001b[1;33m:\u001b[0m  \u001b[1;31m# if blocking (None) or w/ write timeout (>0)\u001b[0m\u001b[1;33m\u001b[0m\u001b[1;33m\u001b[0m\u001b[0m\n\u001b[0;32m    316\u001b[0m                 \u001b[1;32mif\u001b[0m \u001b[1;32mnot\u001b[0m \u001b[0msuccess\u001b[0m \u001b[1;32mand\u001b[0m \u001b[0mwin32\u001b[0m\u001b[1;33m.\u001b[0m\u001b[0mGetLastError\u001b[0m\u001b[1;33m(\u001b[0m\u001b[1;33m)\u001b[0m \u001b[1;32mnot\u001b[0m \u001b[1;32min\u001b[0m \u001b[1;33m(\u001b[0m\u001b[0mwin32\u001b[0m\u001b[1;33m.\u001b[0m\u001b[0mERROR_SUCCESS\u001b[0m\u001b[1;33m,\u001b[0m \u001b[0mwin32\u001b[0m\u001b[1;33m.\u001b[0m\u001b[0mERROR_IO_PENDING\u001b[0m\u001b[1;33m)\u001b[0m\u001b[1;33m:\u001b[0m\u001b[1;33m\u001b[0m\u001b[1;33m\u001b[0m\u001b[0m\n\u001b[1;32m--> 317\u001b[1;33m                     \u001b[1;32mraise\u001b[0m \u001b[0mSerialException\u001b[0m\u001b[1;33m(\u001b[0m\u001b[1;34m\"WriteFile failed ({!r})\"\u001b[0m\u001b[1;33m.\u001b[0m\u001b[0mformat\u001b[0m\u001b[1;33m(\u001b[0m\u001b[0mctypes\u001b[0m\u001b[1;33m.\u001b[0m\u001b[0mWinError\u001b[0m\u001b[1;33m(\u001b[0m\u001b[1;33m)\u001b[0m\u001b[1;33m)\u001b[0m\u001b[1;33m)\u001b[0m\u001b[1;33m\u001b[0m\u001b[1;33m\u001b[0m\u001b[0m\n\u001b[0m\u001b[0;32m    318\u001b[0m \u001b[1;33m\u001b[0m\u001b[0m\n\u001b[0;32m    319\u001b[0m                 \u001b[1;31m# Wait for the write to complete.\u001b[0m\u001b[1;33m\u001b[0m\u001b[1;33m\u001b[0m\u001b[0m\n",
      "\u001b[1;31mSerialException\u001b[0m: WriteFile failed (PermissionError(13, 'Access is denied.', None, 5))"
     ]
    }
   ],
   "source": [
    "import cv2, imutils\n",
    "import sys\n",
    "import serial\n",
    "import time\n",
    "\n",
    "result = cv2.VideoWriter('tracking.mp4', \n",
    "                         cv2.VideoWriter_fourcc(*'mp4v'),\n",
    "                         10, (1200,600))\n",
    "\n",
    "arduino = serial.Serial(port='COM4', baudrate=9600, timeout=.1)\n",
    "# arduino = serial.Serial('COM4')\n",
    "\n",
    "\n",
    "pt1=(250,0)\n",
    "pt2=(450, 500)\n",
    "def trackerr ():\n",
    "\n",
    "    tracker = cv2.TrackerCSRT_create()\n",
    "    video = cv2.VideoCapture(0)\n",
    "    _,frame = video.read()\n",
    "    frame = imutils.resize(frame,width=720)\n",
    "    bbox = cv2.selectROI(frame,False)\n",
    "    tracker.init(frame, bbox)\n",
    "\n",
    "    while True:\n",
    "        ok,frame=video.read()\n",
    "\n",
    "        if not ok:\n",
    "            break\n",
    "        frame = imutils.resize(frame,width=720)\n",
    "        ok,bbox=tracker.update(frame)\n",
    "        \n",
    "        if ok:\n",
    "            (x, y, w, h) = [int(v) for v in bbox]\n",
    "            cv2.rectangle(frame, (x, y), (x + w, y + h),(0, 255, 0), 2)\n",
    "            \n",
    "            \n",
    "            cv2.line(img=frame, pt1=(250,0), pt2=(250, 500), color=(255, 0, 0), thickness=3, lineType=8, shift=0)\n",
    "            cv2.line(img=frame, pt1=(450,0), pt2=(450, 500), color=(255, 0, 0), thickness=3, lineType=8, shift=0)\n",
    "            \n",
    "            if (x,y,w,h)<=pt1:\n",
    "                arduino.write(bytes(\"A\", 'utf-8'))\n",
    "                time.sleep(0.05)\n",
    "                cv2.putText(frame, \"A\", (x, y),cv2.FONT_HERSHEY_SIMPLEX,1.0, (0, 255, 0))\n",
    "                \n",
    "            elif (x,y,w,h)>=pt2:\n",
    "                cv2.putText(frame, \"D\", (x, y),cv2.FONT_HERSHEY_SIMPLEX,1.0, (0, 255, 0))\n",
    "                arduino.write(bytes(\"D\", 'utf-8'))\n",
    "                time.sleep(0.05)\n",
    "                \n",
    "            elif (x,y,w,h)>=pt1 and (x,y,w,h)<=pt2:\n",
    "                cv2.putText(frame, \"W\", (x, y),cv2.FONT_HERSHEY_SIMPLEX,1.0, (0, 255, 0))\n",
    "                arduino.write(bytes(\"W\", 'utf-8'))\n",
    "                time.sleep(0.05)\n",
    "            else:\n",
    "                cv2.putText(frame, \"Q\", (50, 50),cv2.FONT_HERSHEY_SIMPLEX,1, (0, 255, 0))\n",
    "#                 arduino.write(bytes(\"Q\", 'utf-8'))\n",
    "#                 time.sleep(0.05)\n",
    "#                 break\n",
    "#             if cv2.waitKey(10) & 0XFF==ord('q'):\n",
    "#                 break    \n",
    "                \n",
    "        else:\n",
    "            cv2.putText(frame,'Q',(50, 50),cv2.FONT_HERSHEY_SIMPLEX,1, (0, 255, 0))\n",
    "            if cv2.waitKey(2) & 0XFF==ord('q'):\n",
    "                break  \n",
    "            \n",
    "#        \n",
    "        \n",
    "        result.write(frame)\n",
    "        cv2.imshow('Tracking',frame)\n",
    "        \n",
    "        if cv2.waitKey(10) & 0XFF==ord('q'):\n",
    "            break\n",
    "#     arduino.write(bytes(\"Q\", 'utf-8'))\n",
    "#     time.sleep(0.05)        \n",
    "    cv2.destroyAllWindows()\n",
    "\n",
    "trackerr()"
   ]
  },
  {
   "cell_type": "code",
   "execution_count": null,
   "id": "28e6d291",
   "metadata": {},
   "outputs": [],
   "source": []
  },
  {
   "cell_type": "code",
   "execution_count": null,
   "id": "08c79fe0",
   "metadata": {},
   "outputs": [],
   "source": []
  },
  {
   "cell_type": "code",
   "execution_count": null,
   "id": "70fec735",
   "metadata": {},
   "outputs": [],
   "source": []
  }
 ],
 "metadata": {
  "kernelspec": {
   "display_name": "Python 3 (ipykernel)",
   "language": "python",
   "name": "python3"
  },
  "language_info": {
   "codemirror_mode": {
    "name": "ipython",
    "version": 3
   },
   "file_extension": ".py",
   "mimetype": "text/x-python",
   "name": "python",
   "nbconvert_exporter": "python",
   "pygments_lexer": "ipython3",
   "version": "3.9.7"
  }
 },
 "nbformat": 4,
 "nbformat_minor": 5
}
